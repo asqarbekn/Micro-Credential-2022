{
  "nbformat": 4,
  "nbformat_minor": 0,
  "metadata": {
    "colab": {
      "name": "day 1 basics.ipynb",
      "provenance": [],
      "authorship_tag": "ABX9TyN0vwN6/8S7seIZHla4Wzpj",
      "include_colab_link": true
    },
    "kernelspec": {
      "name": "python3",
      "display_name": "Python 3"
    },
    "language_info": {
      "name": "python"
    }
  },
  "cells": [
    {
      "cell_type": "markdown",
      "metadata": {
        "id": "view-in-github",
        "colab_type": "text"
      },
      "source": [
        "<a href=\"https://colab.research.google.com/github/asqarbekn/Micro-Credential-2022/blob/main/day_1_basics.ipynb\" target=\"_parent\"><img src=\"https://colab.research.google.com/assets/colab-badge.svg\" alt=\"Open In Colab\"/></a>"
      ]
    },
    {
      "cell_type": "code",
      "execution_count": 2,
      "metadata": {
        "id": "S_c0oQmoVKEf",
        "colab": {
          "base_uri": "https://localhost:8080/"
        },
        "outputId": "422787f5-9536-47b0-a3e5-4aaf8c6a882d"
      },
      "outputs": [
        {
          "output_type": "stream",
          "name": "stdout",
          "text": [
            "Hello people\n"
          ]
        }
      ],
      "source": [
        "print('Hello people')"
      ]
    },
    {
      "cell_type": "code",
      "source": [
        "import this"
      ],
      "metadata": {
        "id": "oSYYy8D_PV_8"
      },
      "execution_count": 8,
      "outputs": []
    },
    {
      "cell_type": "code",
      "source": [
        "print(this)"
      ],
      "metadata": {
        "colab": {
          "base_uri": "https://localhost:8080/"
        },
        "id": "Vzb7TC0xQyg9",
        "outputId": "1c555106-3d53-42c9-e3ea-3ad2cfc180a5"
      },
      "execution_count": 9,
      "outputs": [
        {
          "output_type": "stream",
          "name": "stdout",
          "text": [
            "<module 'this' from '/usr/lib/python3.7/this.py'>\n"
          ]
        }
      ]
    },
    {
      "cell_type": "code",
      "source": [
        "import this"
      ],
      "metadata": {
        "id": "4SQdR0xEQ-bL"
      },
      "execution_count": 10,
      "outputs": []
    },
    {
      "cell_type": "code",
      "source": [
        ""
      ],
      "metadata": {
        "id": "Mq07-qvrREDM"
      },
      "execution_count": null,
      "outputs": []
    }
  ]
}