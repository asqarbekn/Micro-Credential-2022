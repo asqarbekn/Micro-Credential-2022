{
  "nbformat": 4,
  "nbformat_minor": 0,
  "metadata": {
    "colab": {
      "name": "Day 2 Collection Data Types.ipynb",
      "provenance": [],
      "collapsed_sections": [],
      "authorship_tag": "ABX9TyPO8ES5VbeiDflAJ5U5NwHw",
      "include_colab_link": true
    },
    "kernelspec": {
      "name": "python3",
      "display_name": "Python 3"
    },
    "language_info": {
      "name": "python"
    }
  },
  "cells": [
    {
      "cell_type": "markdown",
      "metadata": {
        "id": "view-in-github",
        "colab_type": "text"
      },
      "source": [
        "<a href=\"https://colab.research.google.com/github/asqarbekn/Micro-Credential-2022/blob/main/Day_2_Collection_Data_Types.ipynb\" target=\"_parent\"><img src=\"https://colab.research.google.com/assets/colab-badge.svg\" alt=\"Open In Colab\"/></a>"
      ]
    },
    {
      "cell_type": "markdown",
      "source": [
        "# Collection Data Types\n",
        "\n",
        "List, Dictionaries, Sets & Tuples"
      ],
      "metadata": {
        "id": "cOC60y7vNg4c"
      }
    },
    {
      "cell_type": "markdown",
      "source": [
        "#List"
      ],
      "metadata": {
        "id": "RV12QPsfNw5i"
      }
    },
    {
      "cell_type": "code",
      "source": [
        "movies = [\"Star Wars\", \"Star Trek\", \"Lord of The Rings\", \"Avengers\"]\n",
        "print(movies)"
      ],
      "metadata": {
        "colab": {
          "base_uri": "https://localhost:8080/"
        },
        "id": "euSAwnkkN7Rv",
        "outputId": "f28afffb-e4d3-44a3-b46f-bed2df7cf257"
      },
      "execution_count": null,
      "outputs": [
        {
          "output_type": "stream",
          "name": "stdout",
          "text": [
            "['Star Wars', 'Star Trek', 'Lord of The Rings', 'Avengers']\n"
          ]
        }
      ]
    },
    {
      "cell_type": "code",
      "source": [
        "movies[-1]"
      ],
      "metadata": {
        "colab": {
          "base_uri": "https://localhost:8080/",
          "height": 35
        },
        "id": "RtcGisVyN6xO",
        "outputId": "c5c1860c-a5ed-4993-ecde-d7b79488bd1d"
      },
      "execution_count": null,
      "outputs": [
        {
          "output_type": "execute_result",
          "data": {
            "application/vnd.google.colaboratory.intrinsic+json": {
              "type": "string"
            },
            "text/plain": [
              "'avengers'"
            ]
          },
          "metadata": {},
          "execution_count": 2
        }
      ]
    },
    {
      "cell_type": "code",
      "source": [
        "len(movies)"
      ],
      "metadata": {
        "colab": {
          "base_uri": "https://localhost:8080/"
        },
        "id": "iBcW9oRHPxg3",
        "outputId": "aab20936-3d4a-473b-ff3c-608f6ccec979"
      },
      "execution_count": null,
      "outputs": [
        {
          "output_type": "execute_result",
          "data": {
            "text/plain": [
              "4"
            ]
          },
          "metadata": {},
          "execution_count": 3
        }
      ]
    },
    {
      "cell_type": "code",
      "source": [
        "movies[2]"
      ],
      "metadata": {
        "colab": {
          "base_uri": "https://localhost:8080/",
          "height": 35
        },
        "id": "LcUCNMZqPzqd",
        "outputId": "4f3c77bd-45e8-4b1d-e2b4-a838cef75234"
      },
      "execution_count": null,
      "outputs": [
        {
          "output_type": "execute_result",
          "data": {
            "application/vnd.google.colaboratory.intrinsic+json": {
              "type": "string"
            },
            "text/plain": [
              "'lord of the rings'"
            ]
          },
          "metadata": {},
          "execution_count": 4
        }
      ]
    },
    {
      "cell_type": "code",
      "source": [
        "s = \"Just A Test\"\n",
        "s.upper()\n",
        "# All uppercase"
      ],
      "metadata": {
        "colab": {
          "base_uri": "https://localhost:8080/",
          "height": 35
        },
        "id": "aq8vAMJRP1Vq",
        "outputId": "c71161cf-6253-4348-93d3-a09f2794646d"
      },
      "execution_count": null,
      "outputs": [
        {
          "output_type": "execute_result",
          "data": {
            "application/vnd.google.colaboratory.intrinsic+json": {
              "type": "string"
            },
            "text/plain": [
              "'JUST A TEST'"
            ]
          },
          "metadata": {},
          "execution_count": 39
        }
      ]
    },
    {
      "cell_type": "code",
      "source": [
        "s.lower()\n",
        "# All lowercase"
      ],
      "metadata": {
        "colab": {
          "base_uri": "https://localhost:8080/",
          "height": 35
        },
        "id": "vA-nxiI2QwgC",
        "outputId": "7e4625a3-8965-4eb6-d4cb-c8ab7bd813ff"
      },
      "execution_count": null,
      "outputs": [
        {
          "output_type": "execute_result",
          "data": {
            "application/vnd.google.colaboratory.intrinsic+json": {
              "type": "string"
            },
            "text/plain": [
              "'just a test'"
            ]
          },
          "metadata": {},
          "execution_count": 40
        }
      ]
    },
    {
      "cell_type": "code",
      "source": [
        "message = \"My favorite movie is \" + movies[int(input(\"Choose 0-3: \"))].upper() + \"!\" \n",
        "# Takes input which has to be cast as integer because input is a string and indexing requires an integer. Then makes it uppercase.\n",
        "'''\n",
        "In the previous line I am first creating a variable. Then I am asking for user input to help choose a movie which is in the form of a string. \n",
        "Then I cast that string as an integer so I can index the movies list accordingly. Then, I capitalize every letter in the indexed string.\n",
        "Lastly, I concatinate all of the strings together to form the final variable.\n",
        "'''\n",
        "\n",
        "print(message)\n",
        "# Prints out the variable"
      ],
      "metadata": {
        "colab": {
          "base_uri": "https://localhost:8080/"
        },
        "id": "kafViMzxRwWs",
        "outputId": "5f70ce91-9668-4a8b-8077-b4166b66af8f"
      },
      "execution_count": null,
      "outputs": [
        {
          "output_type": "stream",
          "name": "stdout",
          "text": [
            "Choose 0-3: -2\n",
            "My favorite movie is LORD OF THE RINGS!\n"
          ]
        }
      ]
    },
    {
      "cell_type": "code",
      "source": [
        "movies = [\"Star Wars\", \"Star Trek\", \"Lord of The Rings\", \"Avengers\"]\n",
        "movies[-2] = \"The Purge\"\n",
        "# Replaces LOTR with The Purge\n",
        "\n",
        "print(movies)"
      ],
      "metadata": {
        "colab": {
          "base_uri": "https://localhost:8080/"
        },
        "id": "YrO2VETrT0lk",
        "outputId": "3b4f6c50-70b3-4740-928c-56288a15d442"
      },
      "execution_count": null,
      "outputs": [
        {
          "output_type": "stream",
          "name": "stdout",
          "text": [
            "['Star Wars', 'Star Trek', 'The Purge', 'Avengers']\n"
          ]
        }
      ]
    },
    {
      "cell_type": "code",
      "source": [
        "movies = [\"Star Wars\", \"Star Trek\", \"Lord of The Rings\", \"Avengers\"]\n",
        "movies.reverse() # Reverses the list (cannot print and reverse in same line)\n",
        "print(movies)"
      ],
      "metadata": {
        "colab": {
          "base_uri": "https://localhost:8080/"
        },
        "id": "Jg_oUcG4dRd-",
        "outputId": "6c5d0deb-65bd-4bd8-ecf3-535f9c8de19a"
      },
      "execution_count": null,
      "outputs": [
        {
          "output_type": "stream",
          "name": "stdout",
          "text": [
            "['Avengers', 'Lord of The Rings', 'Star Trek', 'Star Wars']\n"
          ]
        }
      ]
    },
    {
      "cell_type": "code",
      "source": [
        "movies = [\"Star Wars\", \"Star Trek\", \"Lord of The Rings\", \"Avengers\"]\n",
        "movies.append(\"Spider Man\")\n",
        "movies.append(\"Social Media\")\n",
        "movies.append(\"Halloween\")\n",
        "# Adds each new movie to the list (maximum one per append)\n",
        "\n",
        "print(movies)"
      ],
      "metadata": {
        "colab": {
          "base_uri": "https://localhost:8080/"
        },
        "id": "2UOJMGFQdfIO",
        "outputId": "63b59287-bc80-47d0-ded1-a658b8353ef1"
      },
      "execution_count": null,
      "outputs": [
        {
          "output_type": "stream",
          "name": "stdout",
          "text": [
            "['Star Wars', 'Star Trek', 'Lord of The Rings', 'Avengers', 'Spider Man', 'Social Media', 'Halloween']\n"
          ]
        }
      ]
    },
    {
      "cell_type": "code",
      "source": [
        "movies.remove(\"Star Trek\")\n",
        "# Searches for \"Star Trek\" in the movies list and removes it\n",
        "print(movies)"
      ],
      "metadata": {
        "colab": {
          "base_uri": "https://localhost:8080/"
        },
        "id": "CellUic0fPPP",
        "outputId": "7f7586de-fdba-4e07-c3a7-2e2784857f62"
      },
      "execution_count": null,
      "outputs": [
        {
          "output_type": "stream",
          "name": "stdout",
          "text": [
            "['Star Wars', 'Lord of The Rings', 'Avengers', 'Spider Man', 'Social Media', 'Halloween']\n"
          ]
        }
      ]
    },
    {
      "cell_type": "code",
      "source": [
        "del movies[1]\n",
        "# Searches for the string in the first index and deletes it. (LOTR)\n",
        "print(movies)"
      ],
      "metadata": {
        "colab": {
          "base_uri": "https://localhost:8080/"
        },
        "id": "9w8uvBWlf2Tq",
        "outputId": "57f2875b-4b41-491b-fa2e-78fa59e8b992"
      },
      "execution_count": null,
      "outputs": [
        {
          "output_type": "stream",
          "name": "stdout",
          "text": [
            "['Star Wars', 'Avengers', 'Spider Man', 'Social Media', 'Halloween']\n"
          ]
        }
      ]
    },
    {
      "cell_type": "code",
      "source": [
        "movies.sort()\n",
        "# Sorts the list in alphabetical order\n",
        "print(movies)"
      ],
      "metadata": {
        "colab": {
          "base_uri": "https://localhost:8080/"
        },
        "id": "wGMUwreFf78d",
        "outputId": "eefa9440-9d3a-4d03-9600-41e7066c9d7d"
      },
      "execution_count": null,
      "outputs": [
        {
          "output_type": "stream",
          "name": "stdout",
          "text": [
            "['Avengers', 'Halloween', 'Social Media', 'Spider Man', 'Star Wars']\n"
          ]
        }
      ]
    },
    {
      "cell_type": "code",
      "source": [
        "movies.sort(reverse= True)\n",
        "# Sorts the list in reverse order\n",
        "print(movies)"
      ],
      "metadata": {
        "colab": {
          "base_uri": "https://localhost:8080/"
        },
        "id": "HDV1VUQ5gj_g",
        "outputId": "56874f9a-4567-467b-849a-1e339b5360c5"
      },
      "execution_count": null,
      "outputs": [
        {
          "output_type": "stream",
          "name": "stdout",
          "text": [
            "['Star Wars', 'Spider Man', 'Social Media', 'Halloween', 'Avengers']\n"
          ]
        }
      ]
    },
    {
      "cell_type": "code",
      "source": [
        "print(sorted(movies))\n",
        "# Temporarily sorts the list in alphabetical order\n",
        "print(movies)\n",
        "# Prints the original list"
      ],
      "metadata": {
        "colab": {
          "base_uri": "https://localhost:8080/"
        },
        "id": "RSL9Vgozg4CA",
        "outputId": "ab2bd3c2-2fc4-4501-fcfd-ca4307158ac9"
      },
      "execution_count": null,
      "outputs": [
        {
          "output_type": "stream",
          "name": "stdout",
          "text": [
            "['Avengers', 'Halloween', 'Social Media', 'Spider Man', 'Star Wars']\n",
            "['Star Wars', 'Spider Man', 'Social Media', 'Halloween', 'Avengers']\n"
          ]
        }
      ]
    },
    {
      "cell_type": "code",
      "source": [
        "name = \"Oscar\"\n",
        "print(name.upper())\n",
        "print(name.lower())"
      ],
      "metadata": {
        "id": "fPw4r48PiGSt",
        "colab": {
          "base_uri": "https://localhost:8080/"
        },
        "outputId": "44161236-6e6d-4bf4-e2a9-d8be079e8d24"
      },
      "execution_count": null,
      "outputs": [
        {
          "output_type": "stream",
          "name": "stdout",
          "text": [
            "OSCAR\n",
            "oscar\n"
          ]
        }
      ]
    },
    {
      "cell_type": "code",
      "source": [
        "date = 15\n",
        "print(f\"Do you want to hang out on the {date}th of this month?\")\n"
      ],
      "metadata": {
        "colab": {
          "base_uri": "https://localhost:8080/"
        },
        "id": "iFgbqA9_syRw",
        "outputId": "7243a739-ebf6-4e7c-b1a2-d52bf4da7359"
      },
      "execution_count": null,
      "outputs": [
        {
          "output_type": "stream",
          "name": "stdout",
          "text": [
            "Do you want to hang out on the 15th of this month?\n"
          ]
        }
      ]
    },
    {
      "cell_type": "code",
      "source": [
        ""
      ],
      "metadata": {
        "id": "dBHj1EUUwHcF"
      },
      "execution_count": null,
      "outputs": []
    }
  ]
}