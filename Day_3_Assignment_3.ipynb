{
  "nbformat": 4,
  "nbformat_minor": 0,
  "metadata": {
    "colab": {
      "name": "Day 3 Assignment 3.ipynb",
      "provenance": [],
      "collapsed_sections": [],
      "authorship_tag": "ABX9TyNDRmMaPIOAvKHSVRmiq+KO",
      "include_colab_link": true
    },
    "kernelspec": {
      "name": "python3",
      "display_name": "Python 3"
    },
    "language_info": {
      "name": "python"
    }
  },
  "cells": [
    {
      "cell_type": "markdown",
      "metadata": {
        "id": "view-in-github",
        "colab_type": "text"
      },
      "source": [
        "<a href=\"https://colab.research.google.com/github/asqarbekn/Micro-Credential-2022/blob/main/Day_3_Assignment_3.ipynb\" target=\"_parent\"><img src=\"https://colab.research.google.com/assets/colab-badge.svg\" alt=\"Open In Colab\"/></a>"
      ]
    },
    {
      "cell_type": "markdown",
      "source": [
        "#Lesson 4 - Looping"
      ],
      "metadata": {
        "id": "J9Lu1zCKYRL6"
      }
    },
    {
      "cell_type": "code",
      "source": [
        "# 1. Create a list that holds 5 data variables.\n",
        "\n",
        "colors = ['red', 'blue', 'green', 'white', 'black']\n",
        "print(colors)"
      ],
      "metadata": {
        "colab": {
          "base_uri": "https://localhost:8080/"
        },
        "id": "CiCMk0F_a46P",
        "outputId": "00d295b5-1cd4-475a-e9f1-eb931d5947b3"
      },
      "execution_count": 63,
      "outputs": [
        {
          "output_type": "stream",
          "name": "stdout",
          "text": [
            "['red', 'blue', 'green', 'white', 'black']\n"
          ]
        }
      ]
    },
    {
      "cell_type": "code",
      "source": [
        "# 2. Print out those variables by using a for loop.\n",
        "\n",
        "for color in colors:\n",
        "  print(color)"
      ],
      "metadata": {
        "colab": {
          "base_uri": "https://localhost:8080/"
        },
        "id": "ik0VZ4Gea42r",
        "outputId": "14bbf9c0-d07a-4ed4-a320-472b6e143ead"
      },
      "execution_count": 2,
      "outputs": [
        {
          "output_type": "stream",
          "name": "stdout",
          "text": [
            "red\n",
            "blue\n",
            "green\n",
            "white\n",
            "black\n"
          ]
        }
      ]
    },
    {
      "cell_type": "code",
      "source": [
        "# 3. Modify your for loop to add a message to your for loop.\n",
        "\n",
        "for color in colors:\n",
        "  print(f'A color I like is {color}')"
      ],
      "metadata": {
        "colab": {
          "base_uri": "https://localhost:8080/"
        },
        "id": "3jaZepAna40p",
        "outputId": "323c36ba-95bd-4bcb-9117-f87729c850ae"
      },
      "execution_count": 3,
      "outputs": [
        {
          "output_type": "stream",
          "name": "stdout",
          "text": [
            "A color I like is red\n",
            "A color I like is blue\n",
            "A color I like is green\n",
            "A color I like is white\n",
            "A color I like is black\n"
          ]
        }
      ]
    },
    {
      "cell_type": "code",
      "source": [
        "# 4. Use a for loop to print even numbers from 1-20.\n",
        "\n",
        "for x in list(range(0,21,2)):\n",
        "  print(x)"
      ],
      "metadata": {
        "colab": {
          "base_uri": "https://localhost:8080/"
        },
        "id": "RPkNmHZja4yT",
        "outputId": "71ec8cb8-6855-40f2-ff24-ece94d0225bd"
      },
      "execution_count": 6,
      "outputs": [
        {
          "output_type": "stream",
          "name": "stdout",
          "text": [
            "0\n",
            "2\n",
            "4\n",
            "6\n",
            "8\n",
            "10\n",
            "12\n",
            "14\n",
            "16\n",
            "18\n",
            "20\n"
          ]
        }
      ]
    },
    {
      "cell_type": "code",
      "source": [
        "# 5. Sort your list in alphabetic order.\n",
        "\n",
        "colors.sort()\n",
        "print(colors)"
      ],
      "metadata": {
        "colab": {
          "base_uri": "https://localhost:8080/"
        },
        "id": "sdpB_zxXb0KH",
        "outputId": "f6fcf109-4738-430e-cc58-0a685a8bc751"
      },
      "execution_count": 17,
      "outputs": [
        {
          "output_type": "stream",
          "name": "stdout",
          "text": [
            "['black', 'blue', 'green', 'red', 'white']\n"
          ]
        }
      ]
    },
    {
      "cell_type": "code",
      "source": [
        "# 6. Print out the first three elements of your list.\n",
        "\n",
        "print(colors[0:3])"
      ],
      "metadata": {
        "colab": {
          "base_uri": "https://localhost:8080/"
        },
        "id": "4aZlT9j2cQJ7",
        "outputId": "e677738f-a9b5-4d84-d042-e48fe2b44068"
      },
      "execution_count": 18,
      "outputs": [
        {
          "output_type": "stream",
          "name": "stdout",
          "text": [
            "['black', 'blue', 'green']\n"
          ]
        }
      ]
    },
    {
      "cell_type": "code",
      "source": [
        "# 7. Create a loop to print the last 2 elements of your list.\n",
        "\n",
        "# Gets the length of the colors list and subtracts it by 2 to get the index\n",
        "index = len(colors)-2\n",
        "\n",
        "# Utilizes while loop to print the values at the indices provided (the last two)\n",
        "while index < len(colors):\n",
        "  print(colors[index])\n",
        "  index +=1"
      ],
      "metadata": {
        "colab": {
          "base_uri": "https://localhost:8080/"
        },
        "id": "SDyBaCChc2YK",
        "outputId": "eee1d5b8-a64e-4309-e06b-c3edf1573468"
      },
      "execution_count": 58,
      "outputs": [
        {
          "output_type": "stream",
          "name": "stdout",
          "text": [
            "red\n",
            "white\n"
          ]
        }
      ]
    },
    {
      "cell_type": "markdown",
      "source": [
        "# Lesson: Unit 2 - Python Dictionaries"
      ],
      "metadata": {
        "id": "VrpHsFNsdIXS"
      }
    },
    {
      "cell_type": "code",
      "source": [
        "# 1. Create a simple dictionary that stores 2 variables, for example: first and last name.\n",
        "\n",
        "person1 = {'first name': 'Walter', 'last name': 'White'}"
      ],
      "metadata": {
        "id": "fdrvNCfpfQJj"
      },
      "execution_count": 21,
      "outputs": []
    },
    {
      "cell_type": "code",
      "source": [
        "# 2. Print out those variables stored in your previous dictionary.\n",
        "\n",
        "print(person1['first name'], person1['last name'])"
      ],
      "metadata": {
        "colab": {
          "base_uri": "https://localhost:8080/"
        },
        "id": "loJjvgG-f2Jq",
        "outputId": "9875ce40-d35d-4e3f-dab5-62dbf3348dc4"
      },
      "execution_count": 25,
      "outputs": [
        {
          "output_type": "stream",
          "name": "stdout",
          "text": [
            "Walter White\n"
          ]
        }
      ]
    },
    {
      "cell_type": "code",
      "source": [
        "# 3. Add a message to those variables on printing: for example: “Hello, firstname lastname!”\n",
        "\n",
        "print(f\"Hello, {person1['first name']} {person1['last name']}\")"
      ],
      "metadata": {
        "colab": {
          "base_uri": "https://localhost:8080/"
        },
        "id": "1xHe-MiWf4cd",
        "outputId": "36893c7e-e496-4b3f-9d0b-5898f366f8c7"
      },
      "execution_count": 29,
      "outputs": [
        {
          "output_type": "stream",
          "name": "stdout",
          "text": [
            "Hello, Walter White\n"
          ]
        }
      ]
    },
    {
      "cell_type": "code",
      "source": [
        "# 4. Create a dictionary that holds 2 key: value pairs:\n",
        "#    a. Look through your dictionary and print each pair,\n",
        "\n",
        "car= {'Brand': 'Lexus', 'Model': 'GSF'}\n",
        "\n",
        "# Assigns a key to k and a corresponding value to v then prints the statement\n",
        "for k, v in car.items():\n",
        "  print(f\"The {k} of this car is {v}\")"
      ],
      "metadata": {
        "colab": {
          "base_uri": "https://localhost:8080/"
        },
        "id": "yqICBKBghOMD",
        "outputId": "ff0e9337-e0b6-4290-e4e3-35a2ce339316"
      },
      "execution_count": 59,
      "outputs": [
        {
          "output_type": "stream",
          "name": "stdout",
          "text": [
            "The Brand of this car is Lexus\n",
            "The Model of this car is GSF\n"
          ]
        }
      ]
    },
    {
      "cell_type": "code",
      "source": [
        "# 5. Create a nested dictionary containing three dictionaries – these dictionaries could be\n",
        "#    anything (favorite pets, travel locations, etc.)\n",
        "#        a. Loop through the dictionaries and print a message for each.\n",
        "\n",
        "# Nested dictionary of countries to travel\n",
        "# Inside the countries are the cities to visit and why.\n",
        "travel_locations = {'UAE' : {'City': 'Dubai', 'Reason': 'architecture'},\n",
        "                    'Uzbekistan' : {'City': 'Tashkent', 'Reason': 'culture and architecture'},\n",
        "                    'Russia' : {'City': 'Moscow', 'Reason': 'culture'}}\n",
        "\n",
        "# For loop to check each country and the information about them. Then prints\n",
        "# a statement describing each country.\n",
        "for k, v in travel_locations.items():\n",
        "  print(f\"In {k}, the best city to visit is {v['City']} because of the {v['Reason']}.\")"
      ],
      "metadata": {
        "colab": {
          "base_uri": "https://localhost:8080/"
        },
        "id": "RKuryz9fh27H",
        "outputId": "9dc8cb58-9c23-4191-e4d7-d13d8abbec65"
      },
      "execution_count": 50,
      "outputs": [
        {
          "output_type": "stream",
          "name": "stdout",
          "text": [
            "In UAE, the best city to visit is Dubai because of the architecture.\n",
            "In Uzbekistan, the best city to visit is Tashkent because of the culture and architecture.\n",
            "In Russia, the best city to visit is Moscow because of the culture.\n"
          ]
        }
      ]
    },
    {
      "cell_type": "code",
      "source": [
        ""
      ],
      "metadata": {
        "id": "U_q5xuItnpvq"
      },
      "execution_count": null,
      "outputs": []
    }
  ]
}