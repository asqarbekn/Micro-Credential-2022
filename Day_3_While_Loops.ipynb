{
  "nbformat": 4,
  "nbformat_minor": 0,
  "metadata": {
    "colab": {
      "name": "Day 3 While Loops.ipynb",
      "provenance": [],
      "authorship_tag": "ABX9TyONinltSB4OVppEtVow3J+q",
      "include_colab_link": true
    },
    "kernelspec": {
      "name": "python3",
      "display_name": "Python 3"
    },
    "language_info": {
      "name": "python"
    }
  },
  "cells": [
    {
      "cell_type": "markdown",
      "metadata": {
        "id": "view-in-github",
        "colab_type": "text"
      },
      "source": [
        "<a href=\"https://colab.research.google.com/github/asqarbekn/Micro-Credential-2022/blob/main/Day_3_While_Loops.ipynb\" target=\"_parent\"><img src=\"https://colab.research.google.com/assets/colab-badge.svg\" alt=\"Open In Colab\"/></a>"
      ]
    },
    {
      "cell_type": "markdown",
      "source": [
        "#While Loops"
      ],
      "metadata": {
        "id": "jsPdXMY4JC5h"
      }
    },
    {
      "cell_type": "code",
      "source": [
        "number = 1\n",
        "# starts a while loop that checks if the number is less than or equal to 5 and\n",
        "# continues to print and add 1 to the number until it is greater than 5\n",
        "while number <= 5:\n",
        "  print(number)\n",
        "  number += 1"
      ],
      "metadata": {
        "colab": {
          "base_uri": "https://localhost:8080/"
        },
        "id": "tdzKcrNPJHMi",
        "outputId": "585539cf-c2d3-4b86-bfc6-26fe3e85ac1f"
      },
      "execution_count": null,
      "outputs": [
        {
          "output_type": "stream",
          "name": "stdout",
          "text": [
            "1\n",
            "2\n",
            "3\n",
            "4\n",
            "5\n"
          ]
        }
      ]
    },
    {
      "cell_type": "code",
      "source": [
        "# Creates a prompt for the user to read\n",
        "prompt = 'Input a message. I will repeat it until you type quit. : '\n",
        "\n",
        "# empty variable to store user's input\n",
        "message = ''\n",
        "\n",
        "# while message is not equal to the word quit it will continue to prompt\n",
        "# the user to input a message and will repeat it\n",
        "while message != 'quit':\n",
        "  message = input(prompt)\n",
        "  print(message)"
      ],
      "metadata": {
        "colab": {
          "base_uri": "https://localhost:8080/"
        },
        "id": "oCfwJ_4yTi0B",
        "outputId": "1c051e36-d99b-4a60-9299-cadaddff81cd"
      },
      "execution_count": null,
      "outputs": [
        {
          "output_type": "stream",
          "name": "stdout",
          "text": [
            "Input a message. I will repeat it until you type quit. : hi\n",
            "hi\n",
            "Input a message. I will repeat it until you type quit. : no\n",
            "no\n",
            "Input a message. I will repeat it until you type quit. : test\n",
            "test\n",
            "Input a message. I will repeat it until you type quit. : a\n",
            "a\n",
            "Input a message. I will repeat it until you type quit. : quit\n",
            "quit\n"
          ]
        }
      ]
    },
    {
      "cell_type": "code",
      "source": [
        "# same as above however, it will not repeat the word quit and will just stop\n",
        "# by using the active boolean function\n",
        "prompt = 'Input a message. I will repeat it until you type quit. : '\n",
        "message = ''\n",
        "\n",
        "active = True\n",
        "\n",
        "while message != 'quit':\n",
        "  message = input(prompt)\n",
        "\n",
        "  if message == 'quit':\n",
        "    active = False\n",
        "  else:\n",
        "    print(message)"
      ],
      "metadata": {
        "colab": {
          "base_uri": "https://localhost:8080/"
        },
        "id": "F0TvjiU-W2zg",
        "outputId": "853f767c-6251-48eb-887e-fe37eca691ff"
      },
      "execution_count": null,
      "outputs": [
        {
          "name": "stdout",
          "output_type": "stream",
          "text": [
            "Input a message. I will repeat it until you type quit. : a\n",
            "a\n",
            "Input a message. I will repeat it until you type quit. : s\n",
            "s\n",
            "Input a message. I will repeat it until you type quit. : q\n",
            "q\n",
            "Input a message. I will repeat it until you type quit. : l\n",
            "l\n",
            "Input a message. I will repeat it until you type quit. : quit\n"
          ]
        }
      ]
    },
    {
      "cell_type": "code",
      "source": [
        ""
      ],
      "metadata": {
        "id": "3RQiCRBKXTKj"
      },
      "execution_count": null,
      "outputs": []
    }
  ]
}