{
  "nbformat": 4,
  "nbformat_minor": 0,
  "metadata": {
    "colab": {
      "name": "day 2 assignment 2.ipynb",
      "provenance": [],
      "collapsed_sections": [],
      "authorship_tag": "ABX9TyNr83sWQs5sEEluYmJdy1Tx",
      "include_colab_link": true
    },
    "kernelspec": {
      "name": "python3",
      "display_name": "Python 3"
    },
    "language_info": {
      "name": "python"
    }
  },
  "cells": [
    {
      "cell_type": "markdown",
      "metadata": {
        "id": "view-in-github",
        "colab_type": "text"
      },
      "source": [
        "<a href=\"https://colab.research.google.com/github/asqarbekn/Micro-Credential-2022/blob/main/day_2_assignment_2.ipynb\" target=\"_parent\"><img src=\"https://colab.research.google.com/assets/colab-badge.svg\" alt=\"Open In Colab\"/></a>"
      ]
    },
    {
      "cell_type": "code",
      "execution_count": null,
      "metadata": {
        "colab": {
          "base_uri": "https://localhost:8080/"
        },
        "id": "W8Lo7SIcjQqI",
        "outputId": "f4848893-7769-42f0-e7fe-7f0aeab774f7"
      },
      "outputs": [
        {
          "output_type": "stream",
          "name": "stdout",
          "text": [
            "Please enter an integer: 233\n",
            "\n",
            "The number 233 is: \n",
            "0b11101001 in binary \n",
            "0o351 in octal \n",
            "0xe9 in hexadecimal\n"
          ]
        }
      ],
      "source": [
        "number = input(\"Please enter an integer: \")\n",
        "\n",
        "# Casts the user input as an integer then converts it into a binary, octal, and hexadecimal.\n",
        "binary = bin(int(number))\n",
        "octal = oct(int(number))\n",
        "hexadecimal = hex(int(number))\n",
        "\n",
        "print(\"\\nThe number \" + number + \" is: \\n\" + binary + \" in binary \\n\" + octal + \" in octal \\n\" + hexadecimal + \" in hexadecimal\")"
      ]
    },
    {
      "cell_type": "code",
      "source": [
        ""
      ],
      "metadata": {
        "id": "h7wyHhx1lZW6"
      },
      "execution_count": null,
      "outputs": []
    }
  ]
}