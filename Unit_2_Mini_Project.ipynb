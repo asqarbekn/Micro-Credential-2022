{
  "nbformat": 4,
  "nbformat_minor": 0,
  "metadata": {
    "colab": {
      "name": "Unit 2 Mini Project.ipynb",
      "provenance": [],
      "authorship_tag": "ABX9TyNPQHai5OC9Dkmg1NZBZUuq",
      "include_colab_link": true
    },
    "kernelspec": {
      "name": "python3",
      "display_name": "Python 3"
    },
    "language_info": {
      "name": "python"
    }
  },
  "cells": [
    {
      "cell_type": "markdown",
      "metadata": {
        "id": "view-in-github",
        "colab_type": "text"
      },
      "source": [
        "<a href=\"https://colab.research.google.com/github/asqarbekn/Micro-Credential-2022/blob/main/Unit_2_Mini_Project.ipynb\" target=\"_parent\"><img src=\"https://colab.research.google.com/assets/colab-badge.svg\" alt=\"Open In Colab\"/></a>"
      ]
    },
    {
      "cell_type": "code",
      "execution_count": 20,
      "metadata": {
        "colab": {
          "base_uri": "https://localhost:8080/"
        },
        "id": "wo550cjHtV0h",
        "outputId": "682a6bac-ae6a-4925-ddca-0ed86c2c8f6e"
      },
      "outputs": [
        {
          "output_type": "stream",
          "name": "stdout",
          "text": [
            "Which task can I help you with?\n",
            "1. Check Odd/Even\n",
            "2. Check Division\n",
            "Enter choice (1 or 2): 2\n",
            "Enter the number you wish to divide: 1\n",
            "Enter the number you wish to divide by (check): 2\n",
            "1 is lower than 2, please enter different numbers.\n",
            "Enter the number you wish to divide: 5\n",
            "Enter the number you wish to divide by (check): 2\n",
            "2 does NOT divide evenly into 5\n",
            "Do you want to continue using the program? (y/n): n\n",
            "Goodbye.\n"
          ]
        }
      ],
      "source": [
        "def oddEven(num):\n",
        "  '''\n",
        "  Author: Asqarbek\n",
        "  Input: Prompts user to input a number to check\n",
        "  Output: Returns whether the number is odd or even, and if applicable, a multiple of 4.\n",
        "  '''\n",
        "\n",
        "  # Checks if number is even\n",
        "  if num % 2 == 0:\n",
        "    print(f\"{num} is even\")\n",
        "    # Since the number is even, it has a chance to be a multiple of 4\n",
        "    # So the code checks if it is a multiple of 4\n",
        "    if num % 4 == 0:\n",
        "      return(f\"Also, {num} is a multiple of 4\")\n",
        "    else:\n",
        "      return(f\"However, {num} is not a multiple of 4\")\n",
        "  # If a number is not even, then it must be odd\n",
        "  else:\n",
        "    return f\"{num} is odd\"\n",
        "\n",
        "def checkDiv(num1, check):\n",
        "  '''\n",
        "  Author: Asqarbek\n",
        "  Input: Prompts user to input a number to divide and a number to divide by\n",
        "  Output: Returns whether the first number can be evenly divided by the second number (check)\n",
        "  '''\n",
        "  # Checks if the first number is lower than the check number\n",
        "  if num1 < check:\n",
        "    # Prompts the user to use new numbers because this will not work\n",
        "    print(f\"{num1} is lower than {check}, please enter different numbers.\")\n",
        "    num1 = int(input(\"Enter the number you wish to divide: \"))\n",
        "    check = int(input(\"Enter the number you wish to divide by (check): \"))\n",
        "    return(checkDiv(num1, check))\n",
        "  # Checks if the division of the two numbers has a remainder (if it is evenly divided)\n",
        "  elif num1 % check == 0:\n",
        "    return f\"{check} divides evenly into {num1}\"\n",
        "  else:\n",
        "    return f\"{check} does NOT divide evenly into {num1}\"\n",
        "\n",
        "# Creates a while loop to continue the program running until the user chooses to stop\n",
        "while True:\n",
        "# Prints an interactive menu for the user to utilize\n",
        "  print(\"Which task can I help you with?\")\n",
        "  print(\"1. Check Odd/Even\")\n",
        "  print(\"2. Check Division\")\n",
        "  task = input(\"Enter choice (1 or 2): \")\n",
        "\n",
        "# Checks if the user wants to use the oddEven function\n",
        "  if task == \"1\":\n",
        "    # Prompts user to enter the number they want to check then casts as an integer\n",
        "    num = int(input(\"Enter a number: \"))\n",
        "    # Runs the oddEven function and prints the result\n",
        "    print(oddEven(num))\n",
        "    \n",
        "    # Prompts the user to see if they want to continue using the program\n",
        "    cont = input(\"Do you want to continue using the program? (y/n): \")\n",
        "    # If the answer is no (n) then the program will end, otherwise it will continue\n",
        "    if cont == \"n\":\n",
        "      print(\"Goodbye.\")\n",
        "      break\n",
        "\n",
        "# Checks if the user wants to use the checkDiv function\n",
        "  if task == \"2\":\n",
        "    # Prompts user to enter the number and the check number they wish to use and casts both as integers\n",
        "    num1 = int(input(\"Enter the number you wish to divide: \"))\n",
        "    check = int(input(\"Enter the number you wish to divide by (check): \"))\n",
        "    # Runs the checkDiv function and prints the result\n",
        "    print(checkDiv(num1, check))\n",
        "\n",
        "    # Prompts the user to see if they want to continue using the program\n",
        "    cont = input(\"Do you want to continue using the program? (y/n): \")\n",
        "    # If the answer is no (n) then the program will end, otherwise it will continue\n",
        "    if cont == \"n\":\n",
        "      print(\"Goodbye.\")\n",
        "      break"
      ]
    },
    {
      "cell_type": "code",
      "source": [
        ""
      ],
      "metadata": {
        "id": "pTrYgWOHtdSr"
      },
      "execution_count": 17,
      "outputs": []
    },
    {
      "cell_type": "code",
      "source": [
        ""
      ],
      "metadata": {
        "id": "n3-LaN0GtdPU"
      },
      "execution_count": null,
      "outputs": []
    },
    {
      "cell_type": "code",
      "source": [
        ""
      ],
      "metadata": {
        "id": "1qtpobA2tdL_"
      },
      "execution_count": null,
      "outputs": []
    }
  ]
}