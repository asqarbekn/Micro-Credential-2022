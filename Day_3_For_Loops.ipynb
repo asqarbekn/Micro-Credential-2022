{
  "nbformat": 4,
  "nbformat_minor": 0,
  "metadata": {
    "colab": {
      "name": "Day 3 For Loops.ipynb",
      "provenance": [],
      "collapsed_sections": [],
      "authorship_tag": "ABX9TyPCRC+g3LnpYAZ05kq5AUG5",
      "include_colab_link": true
    },
    "kernelspec": {
      "name": "python3",
      "display_name": "Python 3"
    },
    "language_info": {
      "name": "python"
    }
  },
  "cells": [
    {
      "cell_type": "markdown",
      "metadata": {
        "id": "view-in-github",
        "colab_type": "text"
      },
      "source": [
        "<a href=\"https://colab.research.google.com/github/asqarbekn/Micro-Credential-2022/blob/main/Day_3_For_Loops.ipynb\" target=\"_parent\"><img src=\"https://colab.research.google.com/assets/colab-badge.svg\" alt=\"Open In Colab\"/></a>"
      ]
    },
    {
      "cell_type": "markdown",
      "source": [
        "# For Loops"
      ],
      "metadata": {
        "id": "3BYbaGJ77YP_"
      }
    },
    {
      "cell_type": "code",
      "source": [
        "for x in 'CUNY':\n",
        "  print(x)"
      ],
      "metadata": {
        "colab": {
          "base_uri": "https://localhost:8080/"
        },
        "id": "QNMPFzBe7sMH",
        "outputId": "105f9278-d224-4d32-fa02-b27fa6c3dc74"
      },
      "execution_count": null,
      "outputs": [
        {
          "output_type": "stream",
          "name": "stdout",
          "text": [
            "C\n",
            "U\n",
            "N\n",
            "Y\n"
          ]
        }
      ]
    },
    {
      "cell_type": "code",
      "source": [
        "TV_Shows = ['game of thrones', 'star trek', 'stranger things']\n",
        "# Creates a list of tv shows\n",
        "\n",
        "for i in TV_Shows:\n",
        "  print(i)\n",
        "# Prints each value in the list of tv shows"
      ],
      "metadata": {
        "colab": {
          "base_uri": "https://localhost:8080/"
        },
        "id": "sl2am6587sIl",
        "outputId": "72ffa9e2-5e53-4589-8ece-662f37c80e16"
      },
      "execution_count": null,
      "outputs": [
        {
          "output_type": "stream",
          "name": "stdout",
          "text": [
            "Game of Thrones\n",
            "Star Trek\n",
            "Stranger Things\n"
          ]
        }
      ]
    },
    {
      "cell_type": "code",
      "source": [
        "for show in TV_Shows:\n",
        "  print(show.title() + ' is one of my fav TV shows')"
      ],
      "metadata": {
        "colab": {
          "base_uri": "https://localhost:8080/"
        },
        "id": "y9hG1eHu7sF-",
        "outputId": "37e1cc63-59dc-4e07-ad25-e7ad3b3af2cf"
      },
      "execution_count": null,
      "outputs": [
        {
          "output_type": "stream",
          "name": "stdout",
          "text": [
            "Game Of Thrones is one of my fav TV shows\n",
            "Star Trek is one of my fav TV shows\n",
            "Stranger Things is one of my fav TV shows\n"
          ]
        }
      ]
    },
    {
      "cell_type": "code",
      "source": [
        "Fruits = []"
      ],
      "metadata": {
        "id": "nsnXCVDX7sDK"
      },
      "execution_count": null,
      "outputs": []
    },
    {
      "cell_type": "code",
      "source": [
        "Fruits.append('apple')\n",
        "Fruits.append('banana')\n",
        "Fruits.append('orange')\n",
        "Fruits.append('strawberry')\n",
        "Fruits.append('cherry')\n",
        "Fruits.append('pineapple')\n",
        "Fruits.append('mango')\n",
        "Fruits.append('peach')\n",
        "Fruits.append('raspberry')\n",
        "Fruits.append('kiwi')"
      ],
      "metadata": {
        "id": "cReNwqcY7r_7"
      },
      "execution_count": null,
      "outputs": []
    },
    {
      "cell_type": "code",
      "source": [
        "Fruits"
      ],
      "metadata": {
        "colab": {
          "base_uri": "https://localhost:8080/"
        },
        "id": "vOcDVadv7r4F",
        "outputId": "a4e94e88-d450-4790-afc5-d9efc8a99367"
      },
      "execution_count": null,
      "outputs": [
        {
          "output_type": "execute_result",
          "data": {
            "text/plain": [
              "['apple',\n",
              " 'banana',\n",
              " 'orange',\n",
              " 'strawberry',\n",
              " 'cherry',\n",
              " 'pineapple',\n",
              " 'mango',\n",
              " 'peach',\n",
              " 'raspberry',\n",
              " 'kiwi']"
            ]
          },
          "metadata": {},
          "execution_count": 11
        }
      ]
    },
    {
      "cell_type": "code",
      "source": [
        "for fruit in Fruits:\n",
        "  print(f'Some fruits I like are {fruit}')"
      ],
      "metadata": {
        "colab": {
          "base_uri": "https://localhost:8080/"
        },
        "id": "YBm6A2WaAQpA",
        "outputId": "f925f3cb-2ae5-406b-f584-8945a34ddcc1"
      },
      "execution_count": null,
      "outputs": [
        {
          "output_type": "stream",
          "name": "stdout",
          "text": [
            "Some fruits I like are apple\n",
            "Some fruits I like are banana\n",
            "Some fruits I like are orange\n",
            "Some fruits I like are strawberry\n",
            "Some fruits I like are cherry\n",
            "Some fruits I like are pineapple\n",
            "Some fruits I like are mango\n",
            "Some fruits I like are peach\n",
            "Some fruits I like are raspberry\n",
            "Some fruits I like are kiwi\n"
          ]
        }
      ]
    },
    {
      "cell_type": "code",
      "source": [
        "# Prints from 1 until 11 in a list\n",
        "for x in list(range(1, 11)):\n",
        "  print(x)"
      ],
      "metadata": {
        "colab": {
          "base_uri": "https://localhost:8080/"
        },
        "id": "U-ZpvMP7BL9d",
        "outputId": "e4f90488-c37a-4110-ab8b-1f66006018e6"
      },
      "execution_count": null,
      "outputs": [
        {
          "output_type": "stream",
          "name": "stdout",
          "text": [
            "1\n",
            "2\n",
            "3\n",
            "4\n",
            "5\n",
            "6\n",
            "7\n",
            "8\n",
            "9\n",
            "10\n"
          ]
        }
      ]
    },
    {
      "cell_type": "code",
      "source": [
        "# Prints numbers from 30 until 1 backwards\n",
        "for x in list(range(30,1,-1)):\n",
        "  print(x)"
      ],
      "metadata": {
        "colab": {
          "base_uri": "https://localhost:8080/"
        },
        "id": "jK4FXp20C2GO",
        "outputId": "3ad2baf5-5f39-4818-ec00-723c07059735"
      },
      "execution_count": null,
      "outputs": [
        {
          "output_type": "stream",
          "name": "stdout",
          "text": [
            "30\n",
            "29\n",
            "28\n",
            "27\n",
            "26\n",
            "25\n",
            "24\n",
            "23\n",
            "22\n",
            "21\n",
            "20\n",
            "19\n",
            "18\n",
            "17\n",
            "16\n",
            "15\n",
            "14\n",
            "13\n",
            "12\n",
            "11\n",
            "10\n",
            "9\n",
            "8\n",
            "7\n",
            "6\n",
            "5\n",
            "4\n",
            "3\n",
            "2\n"
          ]
        }
      ]
    },
    {
      "cell_type": "code",
      "source": [
        "num = list(range(1,30))\n",
        "# Creates a list of numbers in the range from 1 to 30 and assigns to variable num\n",
        "print(num)"
      ],
      "metadata": {
        "colab": {
          "base_uri": "https://localhost:8080/"
        },
        "id": "-fVG1zlEDYGE",
        "outputId": "0413fa99-f366-44b9-9a57-f7c743449854"
      },
      "execution_count": null,
      "outputs": [
        {
          "output_type": "stream",
          "name": "stdout",
          "text": [
            "[1, 2, 3, 4, 5, 6, 7, 8, 9, 10, 11, 12, 13, 14, 15, 16, 17, 18, 19, 20, 21, 22, 23, 24, 25, 26, 27, 28, 29]\n"
          ]
        }
      ]
    },
    {
      "cell_type": "code",
      "source": [
        "print(min(num))\n",
        "# Smallest number in the num list\n",
        "\n",
        "print(max(num))\n",
        "# Largest number in the num list\n",
        "\n",
        "print(sum(num))\n",
        "# Sum of all the numbers in the num list\n",
        "\n",
        "print(len(num))\n",
        "# Length of the list"
      ],
      "metadata": {
        "colab": {
          "base_uri": "https://localhost:8080/"
        },
        "id": "170_a9O0DtNX",
        "outputId": "5400dc65-db99-4e23-f4aa-ed1bab444897"
      },
      "execution_count": null,
      "outputs": [
        {
          "output_type": "stream",
          "name": "stdout",
          "text": [
            "1\n",
            "29\n",
            "435\n",
            "29\n"
          ]
        }
      ]
    },
    {
      "cell_type": "code",
      "source": [
        "l = [1,2,3,4,5,6,7,8,9,10, 23, 5, 6, 87, 98765, 345, 52, 3465, 4123, 454, 90]"
      ],
      "metadata": {
        "id": "RJt-BJ5zDx5i"
      },
      "execution_count": null,
      "outputs": []
    },
    {
      "cell_type": "code",
      "source": [
        "for x in l:\n",
        "  if x % 2 == 0: # Checks if the number is divisible by 2\n",
        "    print(x)\n",
        "  else:\n",
        "    print(f'{x} is not an even number')"
      ],
      "metadata": {
        "colab": {
          "base_uri": "https://localhost:8080/"
        },
        "id": "kN_jja5BE7tN",
        "outputId": "0410d38d-458c-44cd-94dc-3eb828fa8a38"
      },
      "execution_count": null,
      "outputs": [
        {
          "output_type": "stream",
          "name": "stdout",
          "text": [
            "1 is not an even number\n",
            "2\n",
            "3 is not an even number\n",
            "4\n",
            "5 is not an even number\n",
            "6\n",
            "7 is not an even number\n",
            "8\n",
            "9 is not an even number\n",
            "10\n",
            "23 is not an even number\n",
            "5 is not an even number\n",
            "6\n",
            "87 is not an even number\n",
            "98765 is not an even number\n",
            "345 is not an even number\n",
            "52\n",
            "3465 is not an even number\n",
            "4123 is not an even number\n",
            "454\n",
            "90\n"
          ]
        }
      ]
    },
    {
      "cell_type": "code",
      "source": [
        "for x in l:\n",
        "  if x % 2 != 0: # Checks if the number is NOT divisible by two (if its odd)\n",
        "    print(x)\n",
        "  else:\n",
        "    print(f'{x} is not an odd number')"
      ],
      "metadata": {
        "colab": {
          "base_uri": "https://localhost:8080/"
        },
        "id": "CasAQQ6uFC8r",
        "outputId": "656d8176-3447-401d-ba81-900c260aae4c"
      },
      "execution_count": null,
      "outputs": [
        {
          "output_type": "stream",
          "name": "stdout",
          "text": [
            "1\n",
            "2 is not an odd number\n",
            "3\n",
            "4 is not an odd number\n",
            "5\n",
            "6 is not an odd number\n",
            "7\n",
            "8 is not an odd number\n",
            "9\n",
            "10 is not an odd number\n",
            "23\n",
            "5\n",
            "6 is not an odd number\n",
            "87\n",
            "98765\n",
            "345\n",
            "52 is not an odd number\n",
            "3465\n",
            "4123\n",
            "454 is not an odd number\n",
            "90 is not an odd number\n"
          ]
        }
      ]
    },
    {
      "cell_type": "code",
      "source": [
        "listSum = 0\n",
        "\n",
        "# for loop to add the each number in the list to the listSum variable\n",
        "for num in l:\n",
        "  listSum += num\n",
        "\n",
        "print(listSum)"
      ],
      "metadata": {
        "colab": {
          "base_uri": "https://localhost:8080/"
        },
        "id": "JkkFT3GhFIzl",
        "outputId": "4ff59047-aa68-46a5-d13e-902d0272f835"
      },
      "execution_count": null,
      "outputs": [
        {
          "output_type": "stream",
          "name": "stdout",
          "text": [
            "107470\n"
          ]
        }
      ]
    },
    {
      "cell_type": "code",
      "source": [
        "dy = {'k1': 1, 'k2': 2, 'k3': 3, 'k4': 4}"
      ],
      "metadata": {
        "id": "BSOmIszkGv1m"
      },
      "execution_count": null,
      "outputs": []
    },
    {
      "cell_type": "code",
      "source": [
        "for item in dy:\n",
        "  print(item)"
      ],
      "metadata": {
        "colab": {
          "base_uri": "https://localhost:8080/"
        },
        "id": "tPI4gu8PHDwv",
        "outputId": "2e6cba6d-89f9-43cb-d5b2-71a410bf6df9"
      },
      "execution_count": null,
      "outputs": [
        {
          "output_type": "stream",
          "name": "stdout",
          "text": [
            "k1\n",
            "k2\n",
            "k3\n",
            "k4\n"
          ]
        }
      ]
    },
    {
      "cell_type": "code",
      "source": [
        "# Gets all the items from the dictionary and assigns the key to the first variable (k) \n",
        "# and assigns the corresponding value to the second variable (v)\n",
        "for k,v in dy.items():\n",
        "  print(f'{k} : {v}')"
      ],
      "metadata": {
        "colab": {
          "base_uri": "https://localhost:8080/"
        },
        "id": "AN5K-9bYHGyy",
        "outputId": "597cb853-f74f-4f84-8a3f-626d7f5f8b6a"
      },
      "execution_count": null,
      "outputs": [
        {
          "output_type": "stream",
          "name": "stdout",
          "text": [
            "k1 : 1\n",
            "k2 : 2\n",
            "k3 : 3\n",
            "k4 : 4\n"
          ]
        }
      ]
    },
    {
      "cell_type": "code",
      "source": [
        "patient = {'Name': 'Jack', 'Last Name': 'Sparrow', 'MRN': '001234567', 'DOB': '22231845'}"
      ],
      "metadata": {
        "id": "cutjdqiFHkn_"
      },
      "execution_count": null,
      "outputs": []
    },
    {
      "cell_type": "code",
      "source": [
        "for x,y in patient.items():\n",
        "  print(f'\\nKey: {x} \\nValue: {y}')"
      ],
      "metadata": {
        "colab": {
          "base_uri": "https://localhost:8080/"
        },
        "id": "zeCXieg_UFee",
        "outputId": "4f3634ea-5410-443a-e1a6-bfaa5652f3b9"
      },
      "execution_count": null,
      "outputs": [
        {
          "output_type": "stream",
          "name": "stdout",
          "text": [
            "\n",
            "Key: Name \n",
            "Value: Jack\n",
            "\n",
            "Key: Last Name \n",
            "Value: Sparrow\n",
            "\n",
            "Key: MRN \n",
            "Value: 001234567\n",
            "\n",
            "Key: DOB \n",
            "Value: 22231845\n"
          ]
        }
      ]
    },
    {
      "cell_type": "code",
      "source": [
        "# prints keys in patient list\n",
        "for k in patient.keys():\n",
        "  print(k)"
      ],
      "metadata": {
        "colab": {
          "base_uri": "https://localhost:8080/"
        },
        "id": "Vn5pg4R4UHr0",
        "outputId": "2fb7e3ea-9761-459b-df22-178bd23b22d0"
      },
      "execution_count": null,
      "outputs": [
        {
          "output_type": "stream",
          "name": "stdout",
          "text": [
            "Name\n",
            "Last Name\n",
            "MRN\n",
            "DOB\n"
          ]
        }
      ]
    },
    {
      "cell_type": "code",
      "source": [
        "# prints values in patient list\n",
        "for v in patient.values():\n",
        "  print(v)"
      ],
      "metadata": {
        "colab": {
          "base_uri": "https://localhost:8080/"
        },
        "id": "o5VNwGJTUKKd",
        "outputId": "bca0800b-0edd-4dbf-dc89-f1c0fc3b1442"
      },
      "execution_count": null,
      "outputs": [
        {
          "output_type": "stream",
          "name": "stdout",
          "text": [
            "Jack\n",
            "Sparrow\n",
            "001234567\n",
            "22231845\n"
          ]
        }
      ]
    },
    {
      "cell_type": "code",
      "source": [
        "# creates a dictionary of friends with their names as keys and their ages as the values\n",
        "friends_ages = {'nick' : '30', 'amanda' : '34', 'john' : '36', 'haley' : '26'}"
      ],
      "metadata": {
        "id": "-kgSN26fUL6K"
      },
      "execution_count": null,
      "outputs": []
    },
    {
      "cell_type": "code",
      "source": [
        "# creates a new list of favorite friends\n",
        "fav_friends = ['nick', 'amanda']\n",
        "\n",
        "# uses for loop to print the names of friends \n",
        "# but if it detects any favorite friends it prints out a statement with their name and age\n",
        "for name in friends_ages.keys():\n",
        "  print(name.title())\n",
        "\n",
        "  if name in fav_friends:\n",
        "    print(f\"Hi {name.title()}, I see you're {friends_ages[name]}\")"
      ],
      "metadata": {
        "colab": {
          "base_uri": "https://localhost:8080/"
        },
        "id": "9_BesyXOUNh0",
        "outputId": "ef9e8ad0-2063-4422-9d96-7a58e358bf6e"
      },
      "execution_count": null,
      "outputs": [
        {
          "output_type": "stream",
          "name": "stdout",
          "text": [
            "Nick\n",
            "Hi Nick, I see you're 30\n",
            "Amanda\n",
            "Hi Amanda, I see you're 34\n",
            "John\n",
            "Haley\n"
          ]
        }
      ]
    },
    {
      "cell_type": "code",
      "source": [
        ""
      ],
      "metadata": {
        "id": "K3u0eMx6UPqm"
      },
      "execution_count": null,
      "outputs": []
    }
  ]
}